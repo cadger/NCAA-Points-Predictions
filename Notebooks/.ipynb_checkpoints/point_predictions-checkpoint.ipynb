{
 "cells": [
  {
   "cell_type": "code",
   "execution_count": 1,
   "metadata": {},
   "outputs": [],
   "source": [
    "import pandas as pd\n",
    "import numpy as np\n",
    "import scipy as sp\n",
    "import matplotlib as mpl\n",
    "from sklearn.tree import DecisionTreeRegressor\n",
    "from sklearn.neighbors import KNeighborsRegressor\n",
    "from sklearn.ensemble import RandomForestRegressor\n",
    "from sklearn.ensemble import GradientBoostingRegressor\n",
    "from sklearn.neural_network import MLPRegressor\n",
    "from sklearn.model_selection import train_test_split\n",
    "from sklearn.metrics import mean_squared_error"
   ]
  },
  {
   "cell_type": "code",
   "execution_count": 2,
   "metadata": {},
   "outputs": [],
   "source": [
    "data_path = '/Users/chandonadger/NCAA_Points_Project/Final Data/'\n",
    "output_path = '/Users/chandonadger/NCAA_Points_Project/Output/'"
   ]
  },
  {
   "cell_type": "code",
   "execution_count": 3,
   "metadata": {},
   "outputs": [],
   "source": [
    "# Load in .dta file and separate observed data through 2018-2019 season from what we want to predict on 2021-2022 players\n",
    "\n",
    "data = pd.read_stata(data_path + 'main_data.dta')\n",
    "need_pred = data[data.year == 2022].reset_index()\n",
    "model_data = data[data.year != 2022].reset_index()"
   ]
  },
  {
   "cell_type": "markdown",
   "metadata": {},
   "source": [
    "# Don't have oddstourney/oddsregion for 2022 data. Can't use as a feature"
   ]
  },
  {
   "cell_type": "code",
   "execution_count": 4,
   "metadata": {},
   "outputs": [],
   "source": [
    "temp = model_data.loc[:,'rank_on_team':'sum_stat_opp_def3']\n",
    "temp.drop(columns=['playinteam'],inplace=True)\n",
    "temp2 = temp[~temp.isnull().any(axis=1)]\n",
    "y = temp2['totpoints']\n",
    "X = temp2.drop(columns=['totpoints'])\n",
    "X_train, X_test, y_train, y_test = train_test_split(X, y, test_size=.2, random_state = 135)"
   ]
  },
  {
   "cell_type": "markdown",
   "metadata": {},
   "source": [
    "## Fit a decision tree to the data"
   ]
  },
  {
   "cell_type": "code",
   "execution_count": 5,
   "metadata": {},
   "outputs": [
    {
     "data": {
      "text/plain": [
       "294.72311212814645"
      ]
     },
     "execution_count": 5,
     "metadata": {},
     "output_type": "execute_result"
    }
   ],
   "source": [
    "model_tree = DecisionTreeRegressor()\n",
    "model_tree.fit(X_train,y_train)\n",
    "pred_tree = model_tree.predict(X_test)\n",
    "score_tree = mean_squared_error(y_test,pred_tree)\n",
    "score_tree"
   ]
  },
  {
   "cell_type": "markdown",
   "metadata": {},
   "source": [
    "## Fit KNN model to the data"
   ]
  },
  {
   "cell_type": "code",
   "execution_count": 6,
   "metadata": {},
   "outputs": [
    {
     "data": {
      "text/plain": [
       "189.70654462242564"
      ]
     },
     "execution_count": 6,
     "metadata": {},
     "output_type": "execute_result"
    }
   ],
   "source": [
    "model_knn = KNeighborsRegressor()\n",
    "model_knn.fit(X_train,y_train)\n",
    "pred_knn = model_knn.predict(X_test)\n",
    "score_knn = mean_squared_error(y_test,pred_knn)\n",
    "score_knn"
   ]
  },
  {
   "cell_type": "markdown",
   "metadata": {},
   "source": [
    "## Fit Random Forest to the data"
   ]
  },
  {
   "cell_type": "code",
   "execution_count": 7,
   "metadata": {},
   "outputs": [
    {
     "name": "stderr",
     "output_type": "stream",
     "text": [
      "/Users/chandonadger/opt/anaconda3/lib/python3.7/site-packages/sklearn/ensemble/forest.py:245: FutureWarning: The default value of n_estimators will change from 10 in version 0.20 to 100 in 0.22.\n",
      "  \"10 in version 0.20 to 100 in 0.22.\", FutureWarning)\n"
     ]
    },
    {
     "data": {
      "text/plain": [
       "163.24304347826086"
      ]
     },
     "execution_count": 7,
     "metadata": {},
     "output_type": "execute_result"
    }
   ],
   "source": [
    "model_rf = RandomForestRegressor()\n",
    "model_rf.fit(X_train,y_train)\n",
    "pred_rf = model_rf.predict(X_test)\n",
    "score_rf = mean_squared_error(y_test,pred_rf)\n",
    "score_rf"
   ]
  },
  {
   "cell_type": "markdown",
   "metadata": {},
   "source": [
    "## Fit GradientBoosting to the data"
   ]
  },
  {
   "cell_type": "code",
   "execution_count": 8,
   "metadata": {},
   "outputs": [
    {
     "data": {
      "text/plain": [
       "160.00039796431642"
      ]
     },
     "execution_count": 8,
     "metadata": {},
     "output_type": "execute_result"
    }
   ],
   "source": [
    "model_gb = GradientBoostingRegressor()\n",
    "model_gb.fit(X_train,y_train)\n",
    "pred_gb = model_gb.predict(X_test)\n",
    "score_gb = mean_squared_error(y_test,pred_gb)\n",
    "score_gb"
   ]
  },
  {
   "cell_type": "markdown",
   "metadata": {},
   "source": [
    "## Fit Neural Network to the data"
   ]
  },
  {
   "cell_type": "code",
   "execution_count": 9,
   "metadata": {},
   "outputs": [
    {
     "data": {
      "text/plain": [
       "186.1359265079073"
      ]
     },
     "execution_count": 9,
     "metadata": {},
     "output_type": "execute_result"
    }
   ],
   "source": [
    "model_mlp = MLPRegressor()\n",
    "model_mlp.fit(X_train,y_train)\n",
    "pred_mlp = model_mlp.predict(X_test)\n",
    "score_mlp = mean_squared_error(y_test,pred_mlp)\n",
    "score_mlp"
   ]
  },
  {
   "cell_type": "code",
   "execution_count": 10,
   "metadata": {},
   "outputs": [
    {
     "data": {
      "text/html": [
       "<div>\n",
       "<style scoped>\n",
       "    .dataframe tbody tr th:only-of-type {\n",
       "        vertical-align: middle;\n",
       "    }\n",
       "\n",
       "    .dataframe tbody tr th {\n",
       "        vertical-align: top;\n",
       "    }\n",
       "\n",
       "    .dataframe thead th {\n",
       "        text-align: right;\n",
       "    }\n",
       "</style>\n",
       "<table border=\"1\" class=\"dataframe\">\n",
       "  <thead>\n",
       "    <tr style=\"text-align: right;\">\n",
       "      <th></th>\n",
       "      <th>y_true</th>\n",
       "      <th>y_tree</th>\n",
       "      <th>y_knn</th>\n",
       "      <th>y_rf</th>\n",
       "      <th>y_gb</th>\n",
       "      <th>y_mlp</th>\n",
       "    </tr>\n",
       "  </thead>\n",
       "  <tbody>\n",
       "    <tr>\n",
       "      <td>1676</td>\n",
       "      <td>0.0</td>\n",
       "      <td>9.0</td>\n",
       "      <td>14.8</td>\n",
       "      <td>10.7</td>\n",
       "      <td>14.133813</td>\n",
       "      <td>9.494524</td>\n",
       "    </tr>\n",
       "    <tr>\n",
       "      <td>1690</td>\n",
       "      <td>57.0</td>\n",
       "      <td>45.0</td>\n",
       "      <td>17.4</td>\n",
       "      <td>30.4</td>\n",
       "      <td>20.079091</td>\n",
       "      <td>26.444436</td>\n",
       "    </tr>\n",
       "    <tr>\n",
       "      <td>1560</td>\n",
       "      <td>8.0</td>\n",
       "      <td>5.0</td>\n",
       "      <td>12.8</td>\n",
       "      <td>14.0</td>\n",
       "      <td>13.689351</td>\n",
       "      <td>15.786315</td>\n",
       "    </tr>\n",
       "    <tr>\n",
       "      <td>1027</td>\n",
       "      <td>10.0</td>\n",
       "      <td>2.0</td>\n",
       "      <td>9.6</td>\n",
       "      <td>7.6</td>\n",
       "      <td>10.920986</td>\n",
       "      <td>6.077702</td>\n",
       "    </tr>\n",
       "    <tr>\n",
       "      <td>695</td>\n",
       "      <td>62.0</td>\n",
       "      <td>50.0</td>\n",
       "      <td>30.0</td>\n",
       "      <td>35.0</td>\n",
       "      <td>26.529840</td>\n",
       "      <td>34.989739</td>\n",
       "    </tr>\n",
       "    <tr>\n",
       "      <td>...</td>\n",
       "      <td>...</td>\n",
       "      <td>...</td>\n",
       "      <td>...</td>\n",
       "      <td>...</td>\n",
       "      <td>...</td>\n",
       "      <td>...</td>\n",
       "    </tr>\n",
       "    <tr>\n",
       "      <td>455</td>\n",
       "      <td>4.0</td>\n",
       "      <td>39.0</td>\n",
       "      <td>32.8</td>\n",
       "      <td>42.4</td>\n",
       "      <td>51.206313</td>\n",
       "      <td>22.385365</td>\n",
       "    </tr>\n",
       "    <tr>\n",
       "      <td>1534</td>\n",
       "      <td>8.0</td>\n",
       "      <td>13.0</td>\n",
       "      <td>11.6</td>\n",
       "      <td>11.1</td>\n",
       "      <td>9.832017</td>\n",
       "      <td>11.395438</td>\n",
       "    </tr>\n",
       "    <tr>\n",
       "      <td>434</td>\n",
       "      <td>56.0</td>\n",
       "      <td>46.0</td>\n",
       "      <td>34.2</td>\n",
       "      <td>38.6</td>\n",
       "      <td>23.369814</td>\n",
       "      <td>16.727666</td>\n",
       "    </tr>\n",
       "    <tr>\n",
       "      <td>1857</td>\n",
       "      <td>17.0</td>\n",
       "      <td>9.0</td>\n",
       "      <td>11.0</td>\n",
       "      <td>13.3</td>\n",
       "      <td>13.395729</td>\n",
       "      <td>13.770608</td>\n",
       "    </tr>\n",
       "    <tr>\n",
       "      <td>157</td>\n",
       "      <td>17.0</td>\n",
       "      <td>22.0</td>\n",
       "      <td>12.4</td>\n",
       "      <td>12.8</td>\n",
       "      <td>12.062901</td>\n",
       "      <td>10.858761</td>\n",
       "    </tr>\n",
       "  </tbody>\n",
       "</table>\n",
       "<p>437 rows × 6 columns</p>\n",
       "</div>"
      ],
      "text/plain": [
       "      y_true  y_tree  y_knn  y_rf       y_gb      y_mlp\n",
       "1676     0.0     9.0   14.8  10.7  14.133813   9.494524\n",
       "1690    57.0    45.0   17.4  30.4  20.079091  26.444436\n",
       "1560     8.0     5.0   12.8  14.0  13.689351  15.786315\n",
       "1027    10.0     2.0    9.6   7.6  10.920986   6.077702\n",
       "695     62.0    50.0   30.0  35.0  26.529840  34.989739\n",
       "...      ...     ...    ...   ...        ...        ...\n",
       "455      4.0    39.0   32.8  42.4  51.206313  22.385365\n",
       "1534     8.0    13.0   11.6  11.1   9.832017  11.395438\n",
       "434     56.0    46.0   34.2  38.6  23.369814  16.727666\n",
       "1857    17.0     9.0   11.0  13.3  13.395729  13.770608\n",
       "157     17.0    22.0   12.4  12.8  12.062901  10.858761\n",
       "\n",
       "[437 rows x 6 columns]"
      ]
     },
     "execution_count": 10,
     "metadata": {},
     "output_type": "execute_result"
    }
   ],
   "source": [
    "d = {'y_true':y_test,'y_tree':pred_tree,'y_knn':pred_knn,'y_rf':pred_rf,'y_gb':pred_gb,'y_mlp':pred_mlp}\n",
    "df = pd.DataFrame(data=d)\n",
    "df"
   ]
  }
 ],
 "metadata": {
  "kernelspec": {
   "display_name": "Python 3",
   "language": "python",
   "name": "python3"
  },
  "language_info": {
   "codemirror_mode": {
    "name": "ipython",
    "version": 3
   },
   "file_extension": ".py",
   "mimetype": "text/x-python",
   "name": "python",
   "nbconvert_exporter": "python",
   "pygments_lexer": "ipython3",
   "version": "3.7.4"
  }
 },
 "nbformat": 4,
 "nbformat_minor": 4
}
